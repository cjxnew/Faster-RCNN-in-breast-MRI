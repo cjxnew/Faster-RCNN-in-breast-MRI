{
 "cells": [
  {
   "cell_type": "code",
   "execution_count": 13,
   "metadata": {},
   "outputs": [],
   "source": [
    "import os\n",
    "import xml.etree.ElementTree as ET\n",
    "import shutil"
   ]
  },
  {
   "cell_type": "code",
   "execution_count": 7,
   "metadata": {},
   "outputs": [],
   "source": [
    "jpg_path = '/home/cjx/chenjixin/faster-rcnn.pytorch-pytorch-1.0/data/VOCdevkit2007/VOC2007/'\n",
    "jpg_dir = 'JPEGImages_3phase'\n",
    "root_path = '/home/cjx/chenjixin/faster-rcnn.pytorch-pytorch-1.0'\n",
    "goal_dir = 'images'\n",
    "txt_name = 'cvTest1.txt'\n",
    "txt_path = '/home/cjx/chenjixin/faster-rcnn.pytorch-pytorch-1.0/data/VOCdevkit2007/VOC2007/ImageSets/Main/图片文档库/5倍交叉验证/'"
   ]
  },
  {
   "cell_type": "code",
   "execution_count": 14,
   "metadata": {},
   "outputs": [],
   "source": [
    "copy_path = os.path.join(jpg_path, jpg_dir)\n",
    "paste_path = os.path.join(root_path, goal_dir)"
   ]
  },
  {
   "cell_type": "code",
   "execution_count": 15,
   "metadata": {},
   "outputs": [],
   "source": [
    "image_index = []\n",
    "txtname = os.path.join(txt_path, txt_name)\n",
    "#@@@ image_index是保存了test.txt里的所有病人编号的列表\n",
    "with open(txtname, 'r') as f:\n",
    "    image_index = [x.strip() for x in f.readlines()]"
   ]
  },
  {
   "cell_type": "code",
   "execution_count": 16,
   "metadata": {},
   "outputs": [],
   "source": [
    "for ind in image_index:\n",
    "    filename = os.path.join(copy_path, ind + '.jpg')\n",
    "    newfilename = os.path.join(paste_path, ind + '.jpg')\n",
    "    shutil.copyfile(filename, newfilename)"
   ]
  },
  {
   "cell_type": "code",
   "execution_count": null,
   "metadata": {},
   "outputs": [],
   "source": []
  }
 ],
 "metadata": {
  "kernelspec": {
   "display_name": "Python 3",
   "language": "python",
   "name": "python3"
  },
  "language_info": {
   "codemirror_mode": {
    "name": "ipython",
    "version": 3
   },
   "file_extension": ".py",
   "mimetype": "text/x-python",
   "name": "python",
   "nbconvert_exporter": "python",
   "pygments_lexer": "ipython3",
   "version": "3.6.9"
  }
 },
 "nbformat": 4,
 "nbformat_minor": 2
}
